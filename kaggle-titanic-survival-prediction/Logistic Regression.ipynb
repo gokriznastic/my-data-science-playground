{
 "cells": [
  {
   "cell_type": "code",
   "execution_count": 1,
   "metadata": {},
   "outputs": [],
   "source": [
    "import pandas as pd\n",
    "from sklearn.linear_model import LogisticRegression"
   ]
  },
  {
   "cell_type": "code",
   "execution_count": 2,
   "metadata": {},
   "outputs": [
    {
     "data": {
      "text/html": [
       "<div>\n",
       "<style scoped>\n",
       "    .dataframe tbody tr th:only-of-type {\n",
       "        vertical-align: middle;\n",
       "    }\n",
       "\n",
       "    .dataframe tbody tr th {\n",
       "        vertical-align: top;\n",
       "    }\n",
       "\n",
       "    .dataframe thead th {\n",
       "        text-align: right;\n",
       "    }\n",
       "</style>\n",
       "<table border=\"1\" class=\"dataframe\">\n",
       "  <thead>\n",
       "    <tr style=\"text-align: right;\">\n",
       "      <th></th>\n",
       "      <th>Age</th>\n",
       "      <th>Fare</th>\n",
       "      <th>PClass</th>\n",
       "      <th>Gender</th>\n",
       "      <th>Embark</th>\n",
       "      <th>Family</th>\n",
       "      <th>Survived</th>\n",
       "    </tr>\n",
       "  </thead>\n",
       "  <tbody>\n",
       "    <tr>\n",
       "      <th>0</th>\n",
       "      <td>29.0</td>\n",
       "      <td>26.0000</td>\n",
       "      <td>0.486486</td>\n",
       "      <td>0.746888</td>\n",
       "      <td>0.357438</td>\n",
       "      <td>1</td>\n",
       "      <td>1.0</td>\n",
       "    </tr>\n",
       "    <tr>\n",
       "      <th>1</th>\n",
       "      <td>27.2</td>\n",
       "      <td>8.0500</td>\n",
       "      <td>0.256267</td>\n",
       "      <td>0.208431</td>\n",
       "      <td>0.357438</td>\n",
       "      <td>0</td>\n",
       "      <td>0.0</td>\n",
       "    </tr>\n",
       "    <tr>\n",
       "      <th>2</th>\n",
       "      <td>39.0</td>\n",
       "      <td>26.0000</td>\n",
       "      <td>0.486486</td>\n",
       "      <td>0.208431</td>\n",
       "      <td>0.357438</td>\n",
       "      <td>0</td>\n",
       "      <td>0.0</td>\n",
       "    </tr>\n",
       "    <tr>\n",
       "      <th>3</th>\n",
       "      <td>29.0</td>\n",
       "      <td>21.0750</td>\n",
       "      <td>0.256267</td>\n",
       "      <td>0.746888</td>\n",
       "      <td>0.357438</td>\n",
       "      <td>4</td>\n",
       "      <td>0.0</td>\n",
       "    </tr>\n",
       "    <tr>\n",
       "      <th>4</th>\n",
       "      <td>25.0</td>\n",
       "      <td>7.0500</td>\n",
       "      <td>0.256267</td>\n",
       "      <td>0.208431</td>\n",
       "      <td>0.357438</td>\n",
       "      <td>0</td>\n",
       "      <td>0.0</td>\n",
       "    </tr>\n",
       "    <tr>\n",
       "      <th>5</th>\n",
       "      <td>34.5</td>\n",
       "      <td>6.4375</td>\n",
       "      <td>0.256267</td>\n",
       "      <td>0.208431</td>\n",
       "      <td>0.563910</td>\n",
       "      <td>0</td>\n",
       "      <td>0.0</td>\n",
       "    </tr>\n",
       "    <tr>\n",
       "      <th>6</th>\n",
       "      <td>35.0</td>\n",
       "      <td>53.1000</td>\n",
       "      <td>0.652174</td>\n",
       "      <td>0.746888</td>\n",
       "      <td>0.357438</td>\n",
       "      <td>1</td>\n",
       "      <td>1.0</td>\n",
       "    </tr>\n",
       "    <tr>\n",
       "      <th>7</th>\n",
       "      <td>23.0</td>\n",
       "      <td>7.8958</td>\n",
       "      <td>0.256267</td>\n",
       "      <td>0.208431</td>\n",
       "      <td>0.357438</td>\n",
       "      <td>0</td>\n",
       "      <td>0.0</td>\n",
       "    </tr>\n",
       "    <tr>\n",
       "      <th>8</th>\n",
       "      <td>25.5</td>\n",
       "      <td>13.0000</td>\n",
       "      <td>0.486486</td>\n",
       "      <td>0.208431</td>\n",
       "      <td>0.357438</td>\n",
       "      <td>0</td>\n",
       "      <td>1.0</td>\n",
       "    </tr>\n",
       "    <tr>\n",
       "      <th>9</th>\n",
       "      <td>50.0</td>\n",
       "      <td>8.0500</td>\n",
       "      <td>0.256267</td>\n",
       "      <td>0.208431</td>\n",
       "      <td>0.357438</td>\n",
       "      <td>0</td>\n",
       "      <td>0.0</td>\n",
       "    </tr>\n",
       "    <tr>\n",
       "      <th>10</th>\n",
       "      <td>23.0</td>\n",
       "      <td>7.5500</td>\n",
       "      <td>0.256267</td>\n",
       "      <td>0.746888</td>\n",
       "      <td>0.357438</td>\n",
       "      <td>0</td>\n",
       "      <td>1.0</td>\n",
       "    </tr>\n",
       "    <tr>\n",
       "      <th>11</th>\n",
       "      <td>27.2</td>\n",
       "      <td>7.2292</td>\n",
       "      <td>0.256267</td>\n",
       "      <td>0.208431</td>\n",
       "      <td>0.563910</td>\n",
       "      <td>0</td>\n",
       "      <td>0.0</td>\n",
       "    </tr>\n",
       "    <tr>\n",
       "      <th>12</th>\n",
       "      <td>36.0</td>\n",
       "      <td>13.0000</td>\n",
       "      <td>0.486486</td>\n",
       "      <td>0.208431</td>\n",
       "      <td>0.357438</td>\n",
       "      <td>0</td>\n",
       "      <td>0.0</td>\n",
       "    </tr>\n",
       "    <tr>\n",
       "      <th>13</th>\n",
       "      <td>27.2</td>\n",
       "      <td>15.5000</td>\n",
       "      <td>0.256267</td>\n",
       "      <td>0.208431</td>\n",
       "      <td>0.400000</td>\n",
       "      <td>1</td>\n",
       "      <td>0.0</td>\n",
       "    </tr>\n",
       "    <tr>\n",
       "      <th>14</th>\n",
       "      <td>21.8</td>\n",
       "      <td>7.7500</td>\n",
       "      <td>0.256267</td>\n",
       "      <td>0.746888</td>\n",
       "      <td>0.400000</td>\n",
       "      <td>0</td>\n",
       "      <td>1.0</td>\n",
       "    </tr>\n",
       "    <tr>\n",
       "      <th>15</th>\n",
       "      <td>28.0</td>\n",
       "      <td>7.9250</td>\n",
       "      <td>0.256267</td>\n",
       "      <td>0.208431</td>\n",
       "      <td>0.357438</td>\n",
       "      <td>2</td>\n",
       "      <td>0.0</td>\n",
       "    </tr>\n",
       "    <tr>\n",
       "      <th>16</th>\n",
       "      <td>32.0</td>\n",
       "      <td>7.8542</td>\n",
       "      <td>0.256267</td>\n",
       "      <td>0.208431</td>\n",
       "      <td>0.357438</td>\n",
       "      <td>0</td>\n",
       "      <td>1.0</td>\n",
       "    </tr>\n",
       "    <tr>\n",
       "      <th>17</th>\n",
       "      <td>42.0</td>\n",
       "      <td>7.5500</td>\n",
       "      <td>0.256267</td>\n",
       "      <td>0.208431</td>\n",
       "      <td>0.357438</td>\n",
       "      <td>0</td>\n",
       "      <td>0.0</td>\n",
       "    </tr>\n",
       "    <tr>\n",
       "      <th>18</th>\n",
       "      <td>38.0</td>\n",
       "      <td>153.4625</td>\n",
       "      <td>0.652174</td>\n",
       "      <td>0.208431</td>\n",
       "      <td>0.357438</td>\n",
       "      <td>1</td>\n",
       "      <td>0.0</td>\n",
       "    </tr>\n",
       "    <tr>\n",
       "      <th>19</th>\n",
       "      <td>21.8</td>\n",
       "      <td>7.7500</td>\n",
       "      <td>0.256267</td>\n",
       "      <td>0.746888</td>\n",
       "      <td>0.400000</td>\n",
       "      <td>0</td>\n",
       "      <td>1.0</td>\n",
       "    </tr>\n",
       "  </tbody>\n",
       "</table>\n",
       "</div>"
      ],
      "text/plain": [
       "     Age      Fare    PClass    Gender    Embark  Family  Survived\n",
       "0   29.0   26.0000  0.486486  0.746888  0.357438       1       1.0\n",
       "1   27.2    8.0500  0.256267  0.208431  0.357438       0       0.0\n",
       "2   39.0   26.0000  0.486486  0.208431  0.357438       0       0.0\n",
       "3   29.0   21.0750  0.256267  0.746888  0.357438       4       0.0\n",
       "4   25.0    7.0500  0.256267  0.208431  0.357438       0       0.0\n",
       "5   34.5    6.4375  0.256267  0.208431  0.563910       0       0.0\n",
       "6   35.0   53.1000  0.652174  0.746888  0.357438       1       1.0\n",
       "7   23.0    7.8958  0.256267  0.208431  0.357438       0       0.0\n",
       "8   25.5   13.0000  0.486486  0.208431  0.357438       0       1.0\n",
       "9   50.0    8.0500  0.256267  0.208431  0.357438       0       0.0\n",
       "10  23.0    7.5500  0.256267  0.746888  0.357438       0       1.0\n",
       "11  27.2    7.2292  0.256267  0.208431  0.563910       0       0.0\n",
       "12  36.0   13.0000  0.486486  0.208431  0.357438       0       0.0\n",
       "13  27.2   15.5000  0.256267  0.208431  0.400000       1       0.0\n",
       "14  21.8    7.7500  0.256267  0.746888  0.400000       0       1.0\n",
       "15  28.0    7.9250  0.256267  0.208431  0.357438       2       0.0\n",
       "16  32.0    7.8542  0.256267  0.208431  0.357438       0       1.0\n",
       "17  42.0    7.5500  0.256267  0.208431  0.357438       0       0.0\n",
       "18  38.0  153.4625  0.652174  0.208431  0.357438       1       0.0\n",
       "19  21.8    7.7500  0.256267  0.746888  0.400000       0       1.0"
      ]
     },
     "execution_count": 2,
     "metadata": {},
     "output_type": "execute_result"
    }
   ],
   "source": [
    "tr_df = pd.read_csv(\"new_training_titanic.csv\")\n",
    "tr_df.head(20)"
   ]
  },
  {
   "cell_type": "code",
   "execution_count": 3,
   "metadata": {},
   "outputs": [],
   "source": [
    "X = tr_df.values[:, 0:tr_df.shape[1]-1]\n",
    "Y = tr_df.values[:, tr_df.shape[1]-1]"
   ]
  },
  {
   "cell_type": "code",
   "execution_count": 4,
   "metadata": {},
   "outputs": [
    {
     "data": {
      "text/plain": [
       "LogisticRegression(C=100, class_weight=None, dual=False, fit_intercept=True,\n",
       "          intercept_scaling=1, max_iter=100, multi_class='ovr', n_jobs=1,\n",
       "          penalty='l2', random_state=None, solver='lbfgs', tol=0.0001,\n",
       "          verbose=0, warm_start=False)"
      ]
     },
     "execution_count": 4,
     "metadata": {},
     "output_type": "execute_result"
    }
   ],
   "source": [
    "clf = LogisticRegression(C=100, solver='lbfgs', multi_class='ovr', max_iter=100)\n",
    "clf.fit(X, Y)"
   ]
  },
  {
   "cell_type": "markdown",
   "metadata": {},
   "source": [
    "#### The above parameters can also be tweaked to try out different versions of logistic regression and with different regularizations"
   ]
  },
  {
   "cell_type": "code",
   "execution_count": 5,
   "metadata": {},
   "outputs": [
    {
     "data": {
      "text/plain": [
       "0.811377245508982"
      ]
     },
     "execution_count": 5,
     "metadata": {},
     "output_type": "execute_result"
    }
   ],
   "source": [
    "clf.score(X, Y)"
   ]
  },
  {
   "cell_type": "code",
   "execution_count": 6,
   "metadata": {},
   "outputs": [],
   "source": [
    "te_df = pd.read_csv(\"new_test_titanic.csv\")"
   ]
  },
  {
   "cell_type": "code",
   "execution_count": 7,
   "metadata": {},
   "outputs": [
    {
     "data": {
      "text/plain": [
       "array([0., 1., 0., 1., 0., 0., 0., 0., 1., 0., 1., 0., 1., 1., 0., 0., 0.,\n",
       "       0., 0., 1., 1., 0., 1., 1., 0., 1., 0., 0., 1., 1., 0., 0., 0., 0.,\n",
       "       0., 1., 1., 0., 0., 0., 1., 0., 0., 0., 1., 1., 0., 1., 0., 0., 0.,\n",
       "       1., 1., 1., 0., 0., 0., 0., 0., 0., 0., 0., 1., 1., 1., 0., 0., 1.,\n",
       "       1., 0., 0., 0., 1., 0., 0., 1., 1., 0., 0., 0., 0., 1., 0., 0., 0.,\n",
       "       1., 1., 1., 0., 0., 1., 0., 0., 1., 0., 0., 0., 0., 0., 1., 1., 0.,\n",
       "       1., 0., 1., 1., 0., 0., 0., 0., 0., 1., 1., 0., 1., 0., 0., 1., 0.,\n",
       "       0., 0., 0., 0., 0., 1., 0., 0., 0., 0., 1., 0., 0., 0., 0., 0., 0.,\n",
       "       1., 1., 1., 0., 0., 0., 1., 0., 0., 0., 0., 0., 1., 1., 1., 0., 0.,\n",
       "       0., 1., 0., 0., 1., 0., 0., 0., 1., 1., 1., 1., 0., 1., 0., 1., 1.,\n",
       "       1., 1., 1., 0., 1., 0., 0., 0., 0., 1., 0., 0., 0., 1., 1., 0., 1.,\n",
       "       0., 1., 0., 0., 0., 1., 0., 0., 1., 1., 1., 1., 1., 0., 1., 0., 0.,\n",
       "       0., 0., 0., 0., 1., 1., 0., 1., 0., 0., 1., 1., 0., 0., 0., 0., 1.,\n",
       "       0., 0.])"
      ]
     },
     "execution_count": 7,
     "metadata": {},
     "output_type": "execute_result"
    }
   ],
   "source": [
    "y_pred = clf.predict(te_df.values)\n",
    "y_pred"
   ]
  },
  {
   "cell_type": "markdown",
   "metadata": {},
   "source": [
    "#### The above predictions can be saved in .csv format as shown below"
   ]
  },
  {
   "cell_type": "code",
   "execution_count": 8,
   "metadata": {},
   "outputs": [],
   "source": [
    "#np.savetxt(\"predicted_titanic_y_pred.csv\", y_pred, delimiter=',')"
   ]
  },
  {
   "cell_type": "markdown",
   "metadata": {},
   "source": [
    "#### For regression problems sometimes accuracy may increase on addition of second degree features, shown below are some:"
   ]
  },
  {
   "cell_type": "code",
   "execution_count": 9,
   "metadata": {},
   "outputs": [],
   "source": [
    "#df['Age_Age'] = df['Age'] ** 2\n",
    "#df['PClass_PClass'] = df['PClass'] ** 2\n",
    "#df['Gender_Gender'] = df['Gender'] ** 2\n",
    "#df['Embark_Embark'] = df['Embark'] ** 2\n",
    "#df['Family_Family'] = df['Family'] ** 2"
   ]
  },
  {
   "cell_type": "code",
   "execution_count": 10,
   "metadata": {},
   "outputs": [],
   "source": [
    "#df['Age_Gender'] = df['Age'] * df['Gender']\n",
    "#df['PClass_Gender'] = df['Gender'] * df['PClass']\n",
    "#df['Age_PClass'] = df['Age'] * df['PClass']\n",
    "#df['PClass_Embark'] = df['PClass'] * df['Embark']\n",
    "#df['Gender_Family'] = df['Gender'] * df['Family']\n",
    "#df['PClass_Family'] = df['PClass'] * df['Family']\n",
    "#df['PClass_Gender_Embark'] = df['Gender'] * df['PClass'] * df['Embark']\n",
    "\n",
    "#df.describe()"
   ]
  },
  {
   "cell_type": "markdown",
   "metadata": {},
   "source": [
    "#### Sometimes, scaling helps too"
   ]
  },
  {
   "cell_type": "markdown",
   "metadata": {},
   "source": [
    "#### SCALING THE DATA"
   ]
  },
  {
   "cell_type": "code",
   "execution_count": 11,
   "metadata": {},
   "outputs": [],
   "source": [
    "#from sklearn import preprocessing"
   ]
  },
  {
   "cell_type": "code",
   "execution_count": 12,
   "metadata": {},
   "outputs": [],
   "source": [
    "#scaler = preprocessing.MinMaxScaler(feature_range=(0, 1), copy=False)\n",
    "#x_scaled = scaler.fit_transform(df.values[:,0:df.shape[1]-1])\n",
    "#scaled_df = pd.DataFrame(x_scaled, columns=df.columns[0:df.shape[1]-1])\n",
    "#scaled_df.head(20)"
   ]
  },
  {
   "cell_type": "markdown",
   "metadata": {},
   "source": [
    "##### or"
   ]
  },
  {
   "cell_type": "code",
   "execution_count": 13,
   "metadata": {},
   "outputs": [],
   "source": [
    "#x_scaled = preprocessing.scale(df.values[:,0:df.shape[1]-1])\n",
    "#scaled_df = pd.DataFrame(x_scaled, columns=df.columns[0:df.shape[1]-1])\n",
    "#scaled_df.head(20)"
   ]
  },
  {
   "cell_type": "code",
   "execution_count": 14,
   "metadata": {},
   "outputs": [],
   "source": [
    "#df = scaled_df.join(df.iloc[:,df.shape[1]-1])\n",
    "#df.head(10)"
   ]
  }
 ],
 "metadata": {
  "kernelspec": {
   "display_name": "Python 3",
   "language": "python",
   "name": "python3"
  },
  "language_info": {
   "codemirror_mode": {
    "name": "ipython",
    "version": 3
   },
   "file_extension": ".py",
   "mimetype": "text/x-python",
   "name": "python",
   "nbconvert_exporter": "python",
   "pygments_lexer": "ipython3",
   "version": "3.6.4"
  }
 },
 "nbformat": 4,
 "nbformat_minor": 2
}
